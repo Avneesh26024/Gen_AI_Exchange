{
 "cells": [
  {
   "cell_type": "code",
   "execution_count": null,
   "id": "036d5b89",
   "metadata": {},
   "outputs": [
    {
     "ename": "",
     "evalue": "",
     "output_type": "error",
     "traceback": [
      "\u001b[1;31mRunning cells with 'Python 3.13.6' requires the ipykernel package.\n",
      "\u001b[1;31m<a href='command:jupyter.createPythonEnvAndSelectController'>Create a Python Environment</a> with the required packages.\n",
      "\u001b[1;31mOr install 'ipykernel' using the command: 'd:/Python312/python.exe -m pip install ipykernel -U --user --force-reinstall'"
     ]
    }
   ],
   "source": [
    "print(''''b'{\"result\":{\"messages\":[{\"content\":\"is covid 19 from malaysia\",\"additional_kwargs\":{},\"response_metadata\":{},\"type\":\"human\",\"name\":null,\"id\":null,\"example\":false},{\"content\":\"The claim that COVID-19 originated in Malaysia is false. Evidence indicates that the virus originated in Wuhan, China.\",\"additional_kwargs\":{},\"response_metadata\":{\"is_blocked\":false,\"safety_ratings\":[{\"category\":\"HARM_CATEGORY_HATE_SPEECH\",\"probability_label\":\"NEGLIGIBLE\",\"probability_score\":1.5248893987518386e-06,\"blocked\":false,\"severity\":\"HARM_SEVERITY_NEGLIGIBLE\",\"severity_score\":0.0},{\"category\":\"HARM_CATEGORY_DANGEROUS_CONTENT\",\"probability_label\":\"NEGLIGIBLE\",\"probability_score\":9.134490142059803e-07,\"blocked\":false,\"severity\":\"HARM_SEVERITY_NEGLIGIBLE\",\"severity_score\":0.022866010665893555},{\"category\":\"HARM_CATEGORY_HARASSMENT\",\"probability_label\":\"NEGLIGIBLE\",\"probability_score\":4.796860957867466e-05,\"blocked\":false,\"severity\":\"HARM_SEVERITY_NEGLIGIBLE\",\"severity_score\":0.10012742131948471},{\"category\":\"HARM_CATEGORY_SEXUALLY_EXPLICIT\",\"probability_label\":\"NEGLIGIBLE\",\"probability_score\":1.9982692833764304e-08,\"blocked\":false,\"severity\":\"HARM_SEVERITY_NEGLIGIBLE\",\"severity_score\":0.0}],\"usage_metadata\":{\"prompt_token_count\":1646,\"candidates_token_count\":24,\"total_token_count\":1670,\"prompt_tokens_details\":[{\"modality\":1,\"token_count\":1646}],\"candidates_tokens_details\":[{\"modality\":1,\"token_count\":24}],\"thoughts_token_count\":0,\"cached_content_token_count\":0,\"cache_tokens_details\":[]},\"finish_reason\":\"STOP\",\"avg_logprobs\":-0.036272925635178886,\"model_name\":\"gemini-2.5-flash-lite\"},\"type\":\"ai\",\"name\":null,\"id\":\"run--d9d5f25c-a9de-4ea0-89df-e3ab763bac09-0\",\"example\":false,\"tool_calls\":[],\"invalid_tool_calls\":[],\"usage_metadata\":{\"input_tokens\":1646,\"output_tokens\":24,\"total_tokens\":1670,\"input_token_details\":{\"cache_read\":0}}}],\"verified_results\":\"```json\\\\n[\\\\n  {\\\\n    \\\\\"claim\\\\\": \\\\\"is covid 19 from malaysia\\\\\",\\\\n    \\\\\"classification\\\\\": \\\\\"FAKE\\\\\",\\\\n    \\\\\"edge_case_notes\\\\\": null,\\\\n    \\\\\"text_evidence_summary\\\\\": \\\\\"The overwhelming scientific consensus and historical records indicate that COVID-19 originated in Wuhan, China, not Malaysia. Numerous sources, including the WHO and CDC, confirm this origin.\\\\\",\\\\n    \\\\\"image_correlation\\\\\": \\\\\"No relevant evidence\\\\\",\\\\n    \\\\\"final_decision\\\\\": \\\\\"The claim that COVID-19 originated in Malaysia is false; evidence points to an origin in China.\\\\\"\\\\n  }\\\\n]\\\\n```\",\"relevant_context\":\"\",\"condensed_query\":\"is covid 19 from malaysia\"}}'\n",
    "is given by         st.write(\"blah blah\",answer.content)\n",
    "''')"
   ]
  },
  {
   "cell_type": "code",
   "execution_count": null,
   "id": "d626db4b",
   "metadata": {},
   "outputs": [],
   "source": []
  }
 ],
 "metadata": {
  "kernelspec": {
   "display_name": "Python 3",
   "language": "python",
   "name": "python3"
  },
  "language_info": {
   "name": "python",
   "version": "3.13.6"
  }
 },
 "nbformat": 4,
 "nbformat_minor": 5
}
