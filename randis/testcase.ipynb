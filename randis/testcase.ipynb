{
 "cells": [
  {
   "cell_type": "code",
   "execution_count": 77,
   "id": "fdeeb130",
   "metadata": {},
   "outputs": [],
   "source": [
    "# from Verifier_Agent import verifier_tool\n",
    "from langgraph.graph import StateGraph\n",
    "from langgraph.prebuilt import create_react_agent\n",
    "# from vertexai.preview.generative_models import GenerativeModel\n",
    "from typing import TypedDict, List\n",
    "# from Retriever.Retriever_Agent import retriever_agent\n",
    "# from Tools.Human_Response import human_response\n",
    "from prompts import main_prompt\n",
    "\n",
    "\n",
    "\n",
    "\n",
    "# model = GenerativeModel(\"gemini-2.5-flash-lite\")\n",
    "\n",
    "class AgentState(TypedDict):\n",
    "    id: int\n",
    "    messages: List[str]\n",
    "    verified_results: str\n",
    "    relevant_context: str\n",
    "    image_path:str\n",
    "    ## convo history\n",
    "\n",
    "    ## audio transcipt str cnvrt to text\n",
    "    \n",
    "\n",
    "    # video_path:str\n",
    "\n",
    "def attach_context(state: AgentState)-> AgentState:\n",
    "    \"\"\"\n",
    "    Attach relevant context to the agent state.\n",
    "    :param state:\n",
    "    :return:\n",
    "    \"\"\"\n",
    "    print('context done')\n",
    "    return state\n",
    "def response(state: AgentState)-> AgentState:\n",
    "    \"\"\"\n",
    "    Gives final response to users.\n",
    "    :param state:\n",
    "    :return:\n",
    "    \"\"\"\n",
    "    print('response done')\n",
    "    \n",
    "    return state\n",
    "\n",
    "\n",
    "\n",
    "\n",
    "\n",
    "\n"
   ]
  },
  {
   "cell_type": "code",
   "execution_count": 78,
   "id": "b51158e8",
   "metadata": {},
   "outputs": [],
   "source": [
    "graph=StateGraph(AgentState)"
   ]
  },
  {
   "cell_type": "code",
   "execution_count": 79,
   "id": "c53eb55e",
   "metadata": {},
   "outputs": [
    {
     "data": {
      "text/plain": [
       "<langgraph.graph.state.StateGraph at 0x1e37c644c80>"
      ]
     },
     "execution_count": 79,
     "metadata": {},
     "output_type": "execute_result"
    }
   ],
   "source": [
    "graph"
   ]
  },
  {
   "cell_type": "code",
   "execution_count": 80,
   "id": "f322f861",
   "metadata": {},
   "outputs": [
    {
     "data": {
      "text/plain": [
       "<langgraph.graph.state.StateGraph at 0x1e37c644c80>"
      ]
     },
     "execution_count": 80,
     "metadata": {},
     "output_type": "execute_result"
    }
   ],
   "source": [
    "graph.add_node('context',attach_context)\n",
    "graph.add_node('response',response)\n",
    "\n",
    "\n",
    "\n",
    "graph.add_edge(START,'context')\n",
    "graph.add_edge('context','response')\n",
    "graph.add_edge('response',END)"
   ]
  },
  {
   "cell_type": "code",
   "execution_count": 81,
   "id": "2b8314ee",
   "metadata": {},
   "outputs": [],
   "source": [
    "app=graph.compile()"
   ]
  },
  {
   "cell_type": "code",
   "execution_count": 82,
   "id": "b73c7351",
   "metadata": {},
   "outputs": [
    {
     "name": "stdout",
     "output_type": "stream",
     "text": [
      "context done\n",
      "response done\n"
     ]
    }
   ],
   "source": [
    "a=app.invoke({'id':2,'messages':[],'verified_results':'','relevant_context':'','image_path':''})"
   ]
  },
  {
   "cell_type": "code",
   "execution_count": 84,
   "id": "f84c5327",
   "metadata": {},
   "outputs": [
    {
     "data": {
      "text/plain": [
       "{'id': 2,\n",
       " 'messages': [],\n",
       " 'verified_results': '',\n",
       " 'relevant_context': '',\n",
       " 'image_path': ''}"
      ]
     },
     "execution_count": 84,
     "metadata": {},
     "output_type": "execute_result"
    }
   ],
   "source": [
    "a"
   ]
  },
  {
   "cell_type": "code",
   "execution_count": null,
   "id": "884451e9",
   "metadata": {},
   "outputs": [],
   "source": []
  },
  {
   "cell_type": "code",
   "execution_count": null,
   "id": "8be9de0b",
   "metadata": {},
   "outputs": [],
   "source": []
  }
 ],
 "metadata": {
  "kernelspec": {
   "display_name": "base",
   "language": "python",
   "name": "python3"
  },
  "language_info": {
   "codemirror_mode": {
    "name": "ipython",
    "version": 3
   },
   "file_extension": ".py",
   "mimetype": "text/x-python",
   "name": "python",
   "nbconvert_exporter": "python",
   "pygments_lexer": "ipython3",
   "version": "3.12.7"
  }
 },
 "nbformat": 4,
 "nbformat_minor": 5
}
